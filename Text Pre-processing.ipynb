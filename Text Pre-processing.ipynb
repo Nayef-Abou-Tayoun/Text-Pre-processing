{
 "cells": [
  {
   "cell_type": "code",
   "execution_count": 174,
   "metadata": {},
   "outputs": [
    {
     "name": "stdout",
     "output_type": "stream",
     "text": [
      "Requirement already satisfied: spacy in /home/jupyterlab/conda/envs/python/lib/python3.6/site-packages (2.2.4)\n",
      "Requirement already satisfied: tqdm<5.0.0,>=4.38.0 in /home/jupyterlab/conda/envs/python/lib/python3.6/site-packages (from spacy) (4.46.0)\n",
      "Requirement already satisfied: cymem<2.1.0,>=2.0.2 in /home/jupyterlab/conda/envs/python/lib/python3.6/site-packages (from spacy) (2.0.3)\n",
      "Requirement already satisfied: setuptools in /home/jupyterlab/conda/envs/python/lib/python3.6/site-packages (from spacy) (46.3.0.post20200513)\n",
      "Requirement already satisfied: blis<0.5.0,>=0.4.0 in /home/jupyterlab/conda/envs/python/lib/python3.6/site-packages (from spacy) (0.4.1)\n",
      "Requirement already satisfied: plac<1.2.0,>=0.9.6 in /home/jupyterlab/conda/envs/python/lib/python3.6/site-packages (from spacy) (1.1.3)\n",
      "Requirement already satisfied: srsly<1.1.0,>=1.0.2 in /home/jupyterlab/conda/envs/python/lib/python3.6/site-packages (from spacy) (1.0.2)\n",
      "Requirement already satisfied: thinc==7.4.0 in /home/jupyterlab/conda/envs/python/lib/python3.6/site-packages (from spacy) (7.4.0)\n",
      "Requirement already satisfied: requests<3.0.0,>=2.13.0 in /home/jupyterlab/conda/envs/python/lib/python3.6/site-packages (from spacy) (2.23.0)\n",
      "Requirement already satisfied: wasabi<1.1.0,>=0.4.0 in /home/jupyterlab/conda/envs/python/lib/python3.6/site-packages (from spacy) (0.6.0)\n",
      "Requirement already satisfied: numpy>=1.15.0 in /home/jupyterlab/conda/envs/python/lib/python3.6/site-packages (from spacy) (1.18.4)\n",
      "Requirement already satisfied: catalogue<1.1.0,>=0.0.7 in /home/jupyterlab/conda/envs/python/lib/python3.6/site-packages (from spacy) (1.0.0)\n",
      "Requirement already satisfied: preshed<3.1.0,>=3.0.2 in /home/jupyterlab/conda/envs/python/lib/python3.6/site-packages (from spacy) (3.0.2)\n",
      "Requirement already satisfied: murmurhash<1.1.0,>=0.28.0 in /home/jupyterlab/conda/envs/python/lib/python3.6/site-packages (from spacy) (1.0.2)\n",
      "Requirement already satisfied: certifi>=2017.4.17 in /home/jupyterlab/conda/envs/python/lib/python3.6/site-packages (from requests<3.0.0,>=2.13.0->spacy) (2020.4.5.1)\n",
      "Requirement already satisfied: chardet<4,>=3.0.2 in /home/jupyterlab/conda/envs/python/lib/python3.6/site-packages (from requests<3.0.0,>=2.13.0->spacy) (3.0.4)\n",
      "Requirement already satisfied: urllib3!=1.25.0,!=1.25.1,<1.26,>=1.21.1 in /home/jupyterlab/conda/envs/python/lib/python3.6/site-packages (from requests<3.0.0,>=2.13.0->spacy) (1.25.9)\n",
      "Requirement already satisfied: idna<3,>=2.5 in /home/jupyterlab/conda/envs/python/lib/python3.6/site-packages (from requests<3.0.0,>=2.13.0->spacy) (2.9)\n",
      "Requirement already satisfied: importlib-metadata>=0.20; python_version < \"3.8\" in /home/jupyterlab/conda/envs/python/lib/python3.6/site-packages (from catalogue<1.1.0,>=0.0.7->spacy) (1.6.0)\n",
      "Requirement already satisfied: zipp>=0.5 in /home/jupyterlab/conda/envs/python/lib/python3.6/site-packages (from importlib-metadata>=0.20; python_version < \"3.8\"->catalogue<1.1.0,>=0.0.7->spacy) (3.1.0)\n",
      "Requirement already satisfied: nltk in /home/jupyterlab/conda/envs/python/lib/python3.6/site-packages (3.5)\n",
      "Requirement already satisfied: click in /home/jupyterlab/conda/envs/python/lib/python3.6/site-packages (from nltk) (7.1.2)\n",
      "Requirement already satisfied: tqdm in /home/jupyterlab/conda/envs/python/lib/python3.6/site-packages (from nltk) (4.46.0)\n",
      "Requirement already satisfied: regex in /home/jupyterlab/conda/envs/python/lib/python3.6/site-packages (from nltk) (2020.5.14)\n",
      "Requirement already satisfied: joblib in /home/jupyterlab/conda/envs/python/lib/python3.6/site-packages (from nltk) (0.15.1)\n",
      "Requirement already satisfied: autocorrect in /home/jupyterlab/conda/envs/python/lib/python3.6/site-packages (1.1.0)\n"
     ]
    }
   ],
   "source": [
    "!pip install spacy\n",
    "!pip install nltk\n",
    "!pip install autocorrect"
   ]
  },
  {
   "cell_type": "code",
   "execution_count": 175,
   "metadata": {},
   "outputs": [],
   "source": [
    "text1=\"This service is only available to users of a certain adge\""
   ]
  },
  {
   "cell_type": "code",
   "execution_count": 176,
   "metadata": {},
   "outputs": [],
   "source": [
    "class txtpreprocessing:\n",
    "    import nltk\n",
    "    import spacy\n",
    "    import autocorrect\n",
    "\n",
    "    from nltk.tokenize import sent_tokenize,word_tokenize\n",
    "    from autocorrect import Speller\n",
    "    from nltk.corpus import stopwords\n",
    "    from nltk.stem import PorterStemmer,WordNetLemmatizer \n",
    "    stemmed_words=[]\n",
    "    \n",
    "    def __init__(self, text):   \n",
    "            self.text = text \n",
    "    \n",
    "    def spelling(self):\n",
    "    \n",
    "        spell = Speller(lang='en')\n",
    "        return str(spell(self.text))\n",
    "    \n",
    "    def tokening(self):\n",
    "        nltk.download('punkt')\n",
    "        tokenized_word=word_tokenize(self.text)\n",
    "        return tokenized_word \n",
    "    \n",
    "    def removing_stopwords(self):\n",
    "    \n",
    "        nltk.download('punkt')\n",
    "        tokenized_word1=tokening(self.text)\n",
    "        nltk.download('stopwords')\n",
    "        stop_words=set(stopwords.words(\"english\"))\n",
    "        filtered_sent=[]\n",
    "        for w in tokenized_word1:\n",
    "            if w not in stop_words:\n",
    "                filtered_sent.append(w)\n",
    "        return filtered_sent\n",
    "\n",
    "    def Lemmating(self):\n",
    "        nltk.download('wordnet')\n",
    "        lemmatizer = WordNetLemmatizer()\n",
    "        stemmed_words=[]\n",
    "        for w in filtered_sent:\n",
    "            stemmed_words.append(lemmatizer.lemmatize(w))\n",
    "        return stemmed_words\n",
    "    \n",
    "    def pos_tag(self):\n",
    "        nltk.download('averaged_perceptron_tagger')\n",
    "        #tokenized_word1=tokening(text)\n",
    "        pos=nltk.pos_tag(removing_stopwords(text1))\n",
    "        return pos\n"
   ]
  },
  {
   "cell_type": "code",
   "execution_count": 177,
   "metadata": {},
   "outputs": [],
   "source": [
    "r1=txtpreprocessing(text1)"
   ]
  },
  {
   "cell_type": "code",
   "execution_count": 178,
   "metadata": {},
   "outputs": [],
   "source": [
    "r2=r1.spelling()"
   ]
  },
  {
   "cell_type": "code",
   "execution_count": 179,
   "metadata": {},
   "outputs": [
    {
     "name": "stderr",
     "output_type": "stream",
     "text": [
      "[nltk_data] Downloading package punkt to /home/jupyterlab/nltk_data...\n",
      "[nltk_data]   Package punkt is already up-to-date!\n"
     ]
    },
    {
     "data": {
      "text/plain": [
       "['This',\n",
       " 'service',\n",
       " 'is',\n",
       " 'only',\n",
       " 'available',\n",
       " 'to',\n",
       " 'users',\n",
       " 'of',\n",
       " 'a',\n",
       " 'certain',\n",
       " 'adge']"
      ]
     },
     "execution_count": 179,
     "metadata": {},
     "output_type": "execute_result"
    }
   ],
   "source": [
    "r1.tokening()"
   ]
  },
  {
   "cell_type": "code",
   "execution_count": 180,
   "metadata": {},
   "outputs": [
    {
     "name": "stderr",
     "output_type": "stream",
     "text": [
      "[nltk_data] Downloading package punkt to /home/jupyterlab/nltk_data...\n",
      "[nltk_data]   Package punkt is already up-to-date!\n",
      "[nltk_data] Downloading package punkt to /home/jupyterlab/nltk_data...\n",
      "[nltk_data]   Package punkt is already up-to-date!\n",
      "[nltk_data] Downloading package stopwords to\n",
      "[nltk_data]     /home/jupyterlab/nltk_data...\n",
      "[nltk_data]   Package stopwords is already up-to-date!\n"
     ]
    },
    {
     "data": {
      "text/plain": [
       "['This', 'service', 'available', 'users', 'certain', 'adge']"
      ]
     },
     "execution_count": 180,
     "metadata": {},
     "output_type": "execute_result"
    }
   ],
   "source": [
    "r1.removing_stopwords()"
   ]
  },
  {
   "cell_type": "code",
   "execution_count": 181,
   "metadata": {},
   "outputs": [
    {
     "name": "stderr",
     "output_type": "stream",
     "text": [
      "[nltk_data] Downloading package wordnet to\n",
      "[nltk_data]     /home/jupyterlab/nltk_data...\n",
      "[nltk_data]   Package wordnet is already up-to-date!\n"
     ]
    },
    {
     "data": {
      "text/plain": [
       "['This', 'service', 'available', 'user', 'certain', 'adge']"
      ]
     },
     "execution_count": 181,
     "metadata": {},
     "output_type": "execute_result"
    }
   ],
   "source": [
    "r1.Lemmating()"
   ]
  },
  {
   "cell_type": "code",
   "execution_count": 182,
   "metadata": {},
   "outputs": [
    {
     "name": "stderr",
     "output_type": "stream",
     "text": [
      "[nltk_data] Downloading package averaged_perceptron_tagger to\n",
      "[nltk_data]     /home/jupyterlab/nltk_data...\n",
      "[nltk_data]   Package averaged_perceptron_tagger is already up-to-\n",
      "[nltk_data]       date!\n",
      "[nltk_data] Downloading package punkt to /home/jupyterlab/nltk_data...\n",
      "[nltk_data]   Package punkt is already up-to-date!\n",
      "[nltk_data] Downloading package punkt to /home/jupyterlab/nltk_data...\n",
      "[nltk_data]   Package punkt is already up-to-date!\n",
      "[nltk_data] Downloading package stopwords to\n",
      "[nltk_data]     /home/jupyterlab/nltk_data...\n",
      "[nltk_data]   Package stopwords is already up-to-date!\n"
     ]
    },
    {
     "data": {
      "text/plain": [
       "[('This', 'DT'),\n",
       " ('service', 'NN'),\n",
       " ('available', 'JJ'),\n",
       " ('users', 'NNS'),\n",
       " ('certain', 'JJ'),\n",
       " ('adge', 'NN')]"
      ]
     },
     "execution_count": 182,
     "metadata": {},
     "output_type": "execute_result"
    }
   ],
   "source": [
    "r1.pos_tag()"
   ]
  },
  {
   "cell_type": "code",
   "execution_count": null,
   "metadata": {},
   "outputs": [],
   "source": []
  }
 ],
 "metadata": {
  "kernelspec": {
   "display_name": "Python",
   "language": "python",
   "name": "conda-env-python-py"
  },
  "language_info": {
   "codemirror_mode": {
    "name": "ipython",
    "version": 3
   },
   "file_extension": ".py",
   "mimetype": "text/x-python",
   "name": "python",
   "nbconvert_exporter": "python",
   "pygments_lexer": "ipython3",
   "version": "3.6.10"
  }
 },
 "nbformat": 4,
 "nbformat_minor": 4
}
